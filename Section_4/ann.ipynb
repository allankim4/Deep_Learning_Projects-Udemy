{
 "cells": [
  {
   "cell_type": "code",
   "execution_count": 1,
   "metadata": {},
   "outputs": [],
   "source": [
    "import pandas as pd\n",
    "import numpy as np\n",
    "import matplotlib.pyplot as plt\n",
    "import seaborn as sns\n",
    "import warnings\n",
    "\n",
    "%matplotlib inline\n",
    "sns.set_style('darkgrid')\n",
    "warnings.filterwarnings('ignore')"
   ]
  },
  {
   "cell_type": "code",
   "execution_count": 2,
   "metadata": {},
   "outputs": [],
   "source": [
    "# Importing the dataset\n",
    "dataset = pd.read_csv('P16-Artificial-Neural-Networks/Artificial_Neural_Networks/Churn_Modelling.csv')\n",
    "X = dataset.iloc[:, 3:13].values\n",
    "y = dataset.iloc[:, 13].values"
   ]
  },
  {
   "cell_type": "code",
   "execution_count": 3,
   "metadata": {},
   "outputs": [
    {
     "name": "stderr",
     "output_type": "stream",
     "text": [
      "/home/allankim/anaconda3/lib/python3.7/site-packages/sklearn/preprocessing/_encoders.py:451: DeprecationWarning: The 'categorical_features' keyword is deprecated in version 0.20 and will be removed in 0.22. You can use the ColumnTransformer instead.\n",
      "  \"use the ColumnTransformer instead.\", DeprecationWarning)\n"
     ]
    }
   ],
   "source": [
    "# Encoding categorical data\n",
    "from sklearn.preprocessing import LabelEncoder, OneHotEncoder\n",
    "labelencoder_X_1 = LabelEncoder()\n",
    "X[:, 1] = labelencoder_X_1.fit_transform(X[:, 1])\n",
    "labelencoder_X_2 = LabelEncoder()\n",
    "X[:, 2] = labelencoder_X_2.fit_transform(X[:, 2])\n",
    "onehotencoder = OneHotEncoder(categorical_features = [1])\n",
    "X = onehotencoder.fit_transform(X).toarray()\n",
    "X = X[:,1:]"
   ]
  },
  {
   "cell_type": "code",
   "execution_count": 4,
   "metadata": {},
   "outputs": [],
   "source": [
    "# Splitting the dataset into the Training set and Test set\n",
    "from sklearn.model_selection import train_test_split\n",
    "X_train, X_test, y_train, y_test = train_test_split(X, y, test_size = 0.2, random_state = 0)\n"
   ]
  },
  {
   "cell_type": "code",
   "execution_count": 5,
   "metadata": {},
   "outputs": [],
   "source": [
    "# Feature Scaling\n",
    "from sklearn.preprocessing import StandardScaler\n",
    "sc = StandardScaler()\n",
    "X_train = sc.fit_transform(X_train)\n",
    "X_test = sc.transform(X_test)"
   ]
  },
  {
   "cell_type": "code",
   "execution_count": 6,
   "metadata": {},
   "outputs": [
    {
     "name": "stderr",
     "output_type": "stream",
     "text": [
      "Using TensorFlow backend.\n"
     ]
    }
   ],
   "source": [
    "#keras for ANN\n",
    "import keras\n",
    "from keras.models import Sequential\n",
    "from keras.layers import Dense\n"
   ]
  },
  {
   "cell_type": "code",
   "execution_count": 7,
   "metadata": {},
   "outputs": [],
   "source": [
    "# #ANN Model\n",
    "# classifier = Sequential()\n",
    "# classifier.add(Dense(output_dim = 6,init = 'uniform', activation = 'relu', input_dim = 11))\n",
    "# classifier.add(Dense(output_dim = 6,init = 'uniform', activation = 'relu'))\n",
    "# classifier.add(Dense(output_dim = 1,init = 'uniform', activation = 'sigmoid'))\n",
    "\n",
    "# #compiling the model\n",
    "# classifier.compile(optimizer = 'adam',\n",
    "#                   loss = 'binary_crossentropy',\n",
    "#                   metrics = ['accuracy'])"
   ]
  },
  {
   "cell_type": "code",
   "execution_count": 8,
   "metadata": {
    "scrolled": false
   },
   "outputs": [],
   "source": [
    "# classifier.fit(X_train, y_train,\n",
    "#               batch_size = 10,\n",
    "#               nb_epoch = 100)"
   ]
  },
  {
   "cell_type": "code",
   "execution_count": 9,
   "metadata": {},
   "outputs": [],
   "source": [
    "# y_pred = classifier.predict(X_test)\n",
    "# y_pred = (y_pred > 0.5)"
   ]
  },
  {
   "cell_type": "code",
   "execution_count": 10,
   "metadata": {},
   "outputs": [],
   "source": [
    "#saving the trained Model\n",
    "#classifier.save('ANN.h5')"
   ]
  },
  {
   "cell_type": "code",
   "execution_count": 11,
   "metadata": {
    "scrolled": true
   },
   "outputs": [],
   "source": [
    "# #Using the trained model to predict a profile\n",
    "# new_pred = classifier.predict(sc.transform(np.array([[0, 0, 600, 1, 40, 3, 60000, 2, 1, 1, 50000]])))\n",
    "# new_pred = (new_pred > 0.5)"
   ]
  },
  {
   "cell_type": "code",
   "execution_count": 13,
   "metadata": {},
   "outputs": [],
   "source": [
    "#K-Fold validation model\n",
    "from keras.wrappers.scikit_learn import KerasClassifier\n",
    "from sklearn.model_selection import cross_val_score"
   ]
  },
  {
   "cell_type": "code",
   "execution_count": 14,
   "metadata": {},
   "outputs": [],
   "source": [
    "#function to introduce model training in keras with sklearn k-fold\n",
    "def build_classifier():\n",
    "    #ANN Model\n",
    "    classifier = Sequential()\n",
    "    classifier.add(Dense(output_dim = 6,init = 'uniform', activation = 'relu', input_dim = 11))\n",
    "    classifier.add(Dense(output_dim = 6,init = 'uniform', activation = 'relu'))\n",
    "    classifier.add(Dense(output_dim = 1,init = 'uniform', activation = 'sigmoid'))\n",
    "\n",
    "    #compiling the model\n",
    "    classifier.compile(optimizer = 'adam',\n",
    "                      loss = 'binary_crossentropy',\n",
    "                      metrics = ['accuracy'])\n",
    "    return classifier"
   ]
  },
  {
   "cell_type": "code",
   "execution_count": 28,
   "metadata": {},
   "outputs": [],
   "source": [
    "classifier_sk = KerasClassifier(build_fn = build_classifier, batch_size = 10, nb_epoch = 100)"
   ]
  },
  {
   "cell_type": "code",
   "execution_count": 29,
   "metadata": {},
   "outputs": [
    {
     "name": "stdout",
     "output_type": "stream",
     "text": [
      "Epoch 1/1\n",
      "7200/7200 [==============================] - 3s 402us/step - loss: 0.4820 - acc: 0.7971\n",
      "800/800 [==============================] - 0s 503us/step\n",
      "Epoch 1/1\n",
      "7200/7200 [==============================] - 3s 414us/step - loss: 0.4892 - acc: 0.7987\n",
      "800/800 [==============================] - 0s 529us/step\n",
      "Epoch 1/1\n",
      "7200/7200 [==============================] - 3s 426us/step - loss: 0.4933 - acc: 0.7956\n",
      "800/800 [==============================] - 0s 550us/step\n",
      "Epoch 1/1\n",
      "7200/7200 [==============================] - 3s 430us/step - loss: 0.4862 - acc: 0.7972\n",
      "800/800 [==============================] - 0s 576us/step\n",
      "Epoch 1/1\n",
      "7200/7200 [==============================] - 3s 429us/step - loss: 0.4908 - acc: 0.7937\n",
      "800/800 [==============================] - 0s 590us/step\n",
      "Epoch 1/1\n",
      "7200/7200 [==============================] - 3s 434us/step - loss: 0.4795 - acc: 0.7944\n",
      "800/800 [==============================] - 0s 612us/step\n",
      "Epoch 1/1\n",
      "7200/7200 [==============================] - 3s 434us/step - loss: 0.5111 - acc: 0.7967\n",
      "800/800 [==============================] - 1s 629us/step\n",
      "Epoch 1/1\n",
      "7200/7200 [==============================] - 3s 445us/step - loss: 0.4818 - acc: 0.7962\n",
      "800/800 [==============================] - 1s 657us/step\n",
      "Epoch 1/1\n",
      "7200/7200 [==============================] - 3s 456us/step - loss: 0.4807 - acc: 0.7956\n",
      "800/800 [==============================] - 1s 674us/step\n",
      "Epoch 1/1\n",
      "7200/7200 [==============================] - 3s 457us/step - loss: 0.4901 - acc: 0.7957\n",
      "800/800 [==============================] - 1s 690us/step\n"
     ]
    }
   ],
   "source": [
    "accuracies = cross_val_score(estimator = classifier_sk,\n",
    "                             X = X_train,\n",
    "                             y = y_train,\n",
    "                             cv = 10,\n",
    "                             n_jobs = 1)"
   ]
  }
 ],
 "metadata": {
  "kernelspec": {
   "display_name": "Python 3",
   "language": "python",
   "name": "python3"
  },
  "language_info": {
   "codemirror_mode": {
    "name": "ipython",
    "version": 3
   },
   "file_extension": ".py",
   "mimetype": "text/x-python",
   "name": "python",
   "nbconvert_exporter": "python",
   "pygments_lexer": "ipython3",
   "version": "3.7.3"
  }
 },
 "nbformat": 4,
 "nbformat_minor": 2
}
