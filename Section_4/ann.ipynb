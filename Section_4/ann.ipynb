{
 "cells": [
  {
   "cell_type": "code",
   "execution_count": 1,
   "metadata": {},
   "outputs": [],
   "source": [
    "import pandas as pd\n",
    "import numpy as np\n",
    "import matplotlib.pyplot as plt\n",
    "import seaborn as sns\n",
    "import warnings\n",
    "\n",
    "%matplotlib inline\n",
    "sns.set_style('darkgrid')\n",
    "warnings.filterwarnings('ignore')"
   ]
  },
  {
   "cell_type": "code",
   "execution_count": 2,
   "metadata": {},
   "outputs": [],
   "source": [
    "# Importing the dataset\n",
    "dataset = pd.read_csv('P16-Artificial-Neural-Networks/Artificial_Neural_Networks/Churn_Modelling.csv')\n",
    "X = dataset.iloc[:, 3:13].values\n",
    "y = dataset.iloc[:, 13].values"
   ]
  },
  {
   "cell_type": "code",
   "execution_count": 3,
   "metadata": {},
   "outputs": [
    {
     "name": "stderr",
     "output_type": "stream",
     "text": [
      "/home/allankim/anaconda3/lib/python3.7/site-packages/sklearn/preprocessing/_encoders.py:451: DeprecationWarning: The 'categorical_features' keyword is deprecated in version 0.20 and will be removed in 0.22. You can use the ColumnTransformer instead.\n",
      "  \"use the ColumnTransformer instead.\", DeprecationWarning)\n"
     ]
    }
   ],
   "source": [
    "# Encoding categorical data\n",
    "from sklearn.preprocessing import LabelEncoder, OneHotEncoder\n",
    "labelencoder_X_1 = LabelEncoder()\n",
    "X[:, 1] = labelencoder_X_1.fit_transform(X[:, 1])\n",
    "labelencoder_X_2 = LabelEncoder()\n",
    "X[:, 2] = labelencoder_X_2.fit_transform(X[:, 2])\n",
    "onehotencoder = OneHotEncoder(categorical_features = [1])\n",
    "X = onehotencoder.fit_transform(X).toarray()\n",
    "X = X[:,1:]"
   ]
  },
  {
   "cell_type": "code",
   "execution_count": 4,
   "metadata": {},
   "outputs": [],
   "source": [
    "# Splitting the dataset into the Training set and Test set\n",
    "from sklearn.model_selection import train_test_split\n",
    "X_train, X_test, y_train, y_test = train_test_split(X, y, test_size = 0.2, random_state = 0)\n"
   ]
  },
  {
   "cell_type": "code",
   "execution_count": 5,
   "metadata": {},
   "outputs": [],
   "source": [
    "# Feature Scaling\n",
    "from sklearn.preprocessing import StandardScaler\n",
    "sc = StandardScaler()\n",
    "X_train = sc.fit_transform(X_train)\n",
    "X_test = sc.transform(X_test)"
   ]
  },
  {
   "cell_type": "code",
   "execution_count": 7,
   "metadata": {},
   "outputs": [],
   "source": [
    "#keras for ANN\n",
    "import keras\n",
    "from keras.models import Sequential\n",
    "from keras.layers import Dense\n"
   ]
  },
  {
   "cell_type": "code",
   "execution_count": 9,
   "metadata": {},
   "outputs": [],
   "source": [
    "#ANN Model\n",
    "classifier = Sequential()\n",
    "classifier.add(Dense(output_dim = 6,init = 'uniform', activation = 'relu', input_dim = 11))\n",
    "classifier.add(Dense(output_dim = 6,init = 'uniform', activation = 'relu'))\n",
    "classifier.add(Dense(output_dim = 1,init = 'uniform', activation = 'sigmoid'))\n",
    "\n",
    "#compiling the model\n",
    "classifier.compile(optimizer = 'adam',\n",
    "                  loss = 'binary_crossentropy',\n",
    "                  metrics = ['accuracy'])"
   ]
  },
  {
   "cell_type": "code",
   "execution_count": 10,
   "metadata": {
    "scrolled": false
   },
   "outputs": [
    {
     "name": "stdout",
     "output_type": "stream",
     "text": [
      "WARNING:tensorflow:From /home/allankim/anaconda3/lib/python3.7/site-packages/keras/backend/tensorflow_backend.py:1033: The name tf.assign_add is deprecated. Please use tf.compat.v1.assign_add instead.\n",
      "\n",
      "Epoch 1/100\n",
      "8000/8000 [==============================] - 4s 544us/step - loss: 0.4846 - acc: 0.7956\n",
      "Epoch 2/100\n",
      "8000/8000 [==============================] - 2s 272us/step - loss: 0.4303 - acc: 0.7960\n",
      "Epoch 3/100\n",
      "8000/8000 [==============================] - 2s 279us/step - loss: 0.4267 - acc: 0.7960\n",
      "Epoch 4/100\n",
      "8000/8000 [==============================] - 2s 283us/step - loss: 0.4207 - acc: 0.8192\n",
      "Epoch 5/100\n",
      "8000/8000 [==============================] - 2s 273us/step - loss: 0.4143 - acc: 0.8281\n",
      "Epoch 6/100\n",
      "8000/8000 [==============================] - 2s 276us/step - loss: 0.4100 - acc: 0.8317\n",
      "Epoch 7/100\n",
      "8000/8000 [==============================] - 2s 266us/step - loss: 0.4070 - acc: 0.8326\n",
      "Epoch 8/100\n",
      "8000/8000 [==============================] - 2s 267us/step - loss: 0.4049 - acc: 0.8341\n",
      "Epoch 9/100\n",
      "8000/8000 [==============================] - 2s 259us/step - loss: 0.4037 - acc: 0.8344\n",
      "Epoch 10/100\n",
      "8000/8000 [==============================] - 2s 262us/step - loss: 0.4026 - acc: 0.8375\n",
      "Epoch 11/100\n",
      "8000/8000 [==============================] - 2s 261us/step - loss: 0.4014 - acc: 0.8347\n",
      "Epoch 12/100\n",
      "8000/8000 [==============================] - 2s 270us/step - loss: 0.4012 - acc: 0.8339\n",
      "Epoch 13/100\n",
      "8000/8000 [==============================] - 2s 267us/step - loss: 0.3998 - acc: 0.8354\n",
      "Epoch 14/100\n",
      "8000/8000 [==============================] - 2s 260us/step - loss: 0.3991 - acc: 0.8349\n",
      "Epoch 15/100\n",
      "8000/8000 [==============================] - 2s 262us/step - loss: 0.3989 - acc: 0.8336\n",
      "Epoch 16/100\n",
      "8000/8000 [==============================] - 2s 261us/step - loss: 0.3986 - acc: 0.8359\n",
      "Epoch 17/100\n",
      "8000/8000 [==============================] - 2s 258us/step - loss: 0.3978 - acc: 0.8350\n",
      "Epoch 18/100\n",
      "8000/8000 [==============================] - 2s 254us/step - loss: 0.3980 - acc: 0.8339\n",
      "Epoch 19/100\n",
      "8000/8000 [==============================] - 2s 261us/step - loss: 0.3978 - acc: 0.8346\n",
      "Epoch 20/100\n",
      "8000/8000 [==============================] - 2s 263us/step - loss: 0.3975 - acc: 0.8351\n",
      "Epoch 21/100\n",
      "8000/8000 [==============================] - 2s 256us/step - loss: 0.3967 - acc: 0.8366\n",
      "Epoch 22/100\n",
      "8000/8000 [==============================] - 2s 261us/step - loss: 0.3968 - acc: 0.8349\n",
      "Epoch 23/100\n",
      "8000/8000 [==============================] - 2s 253us/step - loss: 0.3963 - acc: 0.8359\n",
      "Epoch 24/100\n",
      "8000/8000 [==============================] - 2s 266us/step - loss: 0.3964 - acc: 0.8352\n",
      "Epoch 25/100\n",
      "8000/8000 [==============================] - 2s 257us/step - loss: 0.3961 - acc: 0.8355\n",
      "Epoch 26/100\n",
      "8000/8000 [==============================] - 2s 265us/step - loss: 0.3960 - acc: 0.8339\n",
      "Epoch 27/100\n",
      "8000/8000 [==============================] - 2s 266us/step - loss: 0.3964 - acc: 0.8356\n",
      "Epoch 28/100\n",
      "8000/8000 [==============================] - 2s 265us/step - loss: 0.3963 - acc: 0.8355\n",
      "Epoch 29/100\n",
      "8000/8000 [==============================] - 2s 263us/step - loss: 0.3956 - acc: 0.8359\n",
      "Epoch 30/100\n",
      "8000/8000 [==============================] - 2s 255us/step - loss: 0.3951 - acc: 0.8344\n",
      "Epoch 31/100\n",
      "8000/8000 [==============================] - 2s 269us/step - loss: 0.3950 - acc: 0.8351\n",
      "Epoch 32/100\n",
      "8000/8000 [==============================] - 2s 254us/step - loss: 0.3950 - acc: 0.8349\n",
      "Epoch 33/100\n",
      "8000/8000 [==============================] - 2s 261us/step - loss: 0.3947 - acc: 0.8357\n",
      "Epoch 34/100\n",
      "8000/8000 [==============================] - 2s 260us/step - loss: 0.3940 - acc: 0.8347\n",
      "Epoch 35/100\n",
      "8000/8000 [==============================] - 2s 264us/step - loss: 0.3930 - acc: 0.8377\n",
      "Epoch 36/100\n",
      "8000/8000 [==============================] - 2s 264us/step - loss: 0.3913 - acc: 0.8356\n",
      "Epoch 37/100\n",
      "8000/8000 [==============================] - 2s 264us/step - loss: 0.3900 - acc: 0.8386\n",
      "Epoch 38/100\n",
      "8000/8000 [==============================] - 2s 265us/step - loss: 0.3884 - acc: 0.8374\n",
      "Epoch 39/100\n",
      "8000/8000 [==============================] - 2s 256us/step - loss: 0.3855 - acc: 0.8382\n",
      "Epoch 40/100\n",
      "8000/8000 [==============================] - 2s 258us/step - loss: 0.3836 - acc: 0.8381\n",
      "Epoch 41/100\n",
      "8000/8000 [==============================] - 2s 261us/step - loss: 0.3821 - acc: 0.8390\n",
      "Epoch 42/100\n",
      "8000/8000 [==============================] - 2s 261us/step - loss: 0.3804 - acc: 0.8376\n",
      "Epoch 43/100\n",
      "8000/8000 [==============================] - 2s 263us/step - loss: 0.3787 - acc: 0.8381\n",
      "Epoch 44/100\n",
      "8000/8000 [==============================] - 2s 268us/step - loss: 0.3785 - acc: 0.8385\n",
      "Epoch 45/100\n",
      "8000/8000 [==============================] - 2s 252us/step - loss: 0.3766 - acc: 0.8361\n",
      "Epoch 46/100\n",
      "8000/8000 [==============================] - 2s 249us/step - loss: 0.3759 - acc: 0.8364\n",
      "Epoch 47/100\n",
      "8000/8000 [==============================] - 2s 256us/step - loss: 0.3746 - acc: 0.8382\n",
      "Epoch 48/100\n",
      "8000/8000 [==============================] - 2s 264us/step - loss: 0.3739 - acc: 0.8380\n",
      "Epoch 49/100\n",
      "8000/8000 [==============================] - 2s 255us/step - loss: 0.3728 - acc: 0.8379\n",
      "Epoch 50/100\n",
      "8000/8000 [==============================] - 2s 261us/step - loss: 0.3703 - acc: 0.8389\n",
      "Epoch 51/100\n",
      "8000/8000 [==============================] - 2s 265us/step - loss: 0.3699 - acc: 0.8419\n",
      "Epoch 52/100\n",
      "8000/8000 [==============================] - 2s 259us/step - loss: 0.3688 - acc: 0.8432\n",
      "Epoch 53/100\n",
      "8000/8000 [==============================] - 2s 268us/step - loss: 0.3669 - acc: 0.8455\n",
      "Epoch 54/100\n",
      "8000/8000 [==============================] - 2s 256us/step - loss: 0.3666 - acc: 0.8489\n",
      "Epoch 55/100\n",
      "8000/8000 [==============================] - 2s 258us/step - loss: 0.3647 - acc: 0.8501\n",
      "Epoch 56/100\n",
      "8000/8000 [==============================] - 2s 261us/step - loss: 0.3644 - acc: 0.8484\n",
      "Epoch 57/100\n",
      "8000/8000 [==============================] - 2s 263us/step - loss: 0.3629 - acc: 0.8492\n",
      "Epoch 58/100\n",
      "8000/8000 [==============================] - 2s 264us/step - loss: 0.3614 - acc: 0.8506\n",
      "Epoch 59/100\n",
      "8000/8000 [==============================] - 2s 265us/step - loss: 0.3593 - acc: 0.8537\n",
      "Epoch 60/100\n",
      "8000/8000 [==============================] - 2s 261us/step - loss: 0.3571 - acc: 0.8527\n",
      "Epoch 61/100\n",
      "8000/8000 [==============================] - 2s 265us/step - loss: 0.3551 - acc: 0.8569\n",
      "Epoch 62/100\n",
      "8000/8000 [==============================] - 2s 262us/step - loss: 0.3544 - acc: 0.8560\n",
      "Epoch 63/100\n",
      "8000/8000 [==============================] - 2s 258us/step - loss: 0.3535 - acc: 0.8582\n",
      "Epoch 64/100\n",
      "8000/8000 [==============================] - 2s 262us/step - loss: 0.3516 - acc: 0.8574\n",
      "Epoch 65/100\n",
      "8000/8000 [==============================] - 2s 266us/step - loss: 0.3513 - acc: 0.8599\n",
      "Epoch 66/100\n",
      "8000/8000 [==============================] - 2s 274us/step - loss: 0.3504 - acc: 0.8595\n",
      "Epoch 67/100\n",
      "8000/8000 [==============================] - 2s 269us/step - loss: 0.3490 - acc: 0.8604\n",
      "Epoch 68/100\n",
      "8000/8000 [==============================] - 2s 274us/step - loss: 0.3498 - acc: 0.8581\n",
      "Epoch 69/100\n",
      "8000/8000 [==============================] - 2s 265us/step - loss: 0.3479 - acc: 0.8591\n",
      "Epoch 70/100\n",
      "8000/8000 [==============================] - 2s 261us/step - loss: 0.3479 - acc: 0.8604\n",
      "Epoch 71/100\n",
      "8000/8000 [==============================] - 2s 258us/step - loss: 0.3476 - acc: 0.8595\n",
      "Epoch 72/100\n",
      "8000/8000 [==============================] - 2s 259us/step - loss: 0.3471 - acc: 0.8590\n",
      "Epoch 73/100\n",
      "8000/8000 [==============================] - 2s 271us/step - loss: 0.3466 - acc: 0.8605\n",
      "Epoch 74/100\n",
      "8000/8000 [==============================] - 2s 266us/step - loss: 0.3463 - acc: 0.8601\n",
      "Epoch 75/100\n",
      "8000/8000 [==============================] - 2s 268us/step - loss: 0.3460 - acc: 0.8597\n",
      "Epoch 76/100\n",
      "8000/8000 [==============================] - 2s 295us/step - loss: 0.3454 - acc: 0.8604\n",
      "Epoch 77/100\n",
      "8000/8000 [==============================] - 2s 262us/step - loss: 0.3447 - acc: 0.8616\n",
      "Epoch 78/100\n",
      "8000/8000 [==============================] - 2s 267us/step - loss: 0.3444 - acc: 0.8620\n",
      "Epoch 79/100\n",
      "8000/8000 [==============================] - 2s 262us/step - loss: 0.3438 - acc: 0.8617\n",
      "Epoch 80/100\n"
     ]
    },
    {
     "name": "stdout",
     "output_type": "stream",
     "text": [
      "8000/8000 [==============================] - 2s 254us/step - loss: 0.3443 - acc: 0.8601\n",
      "Epoch 81/100\n",
      "8000/8000 [==============================] - 2s 260us/step - loss: 0.3439 - acc: 0.8629\n",
      "Epoch 82/100\n",
      "8000/8000 [==============================] - 2s 265us/step - loss: 0.3433 - acc: 0.8600\n",
      "Epoch 83/100\n",
      "8000/8000 [==============================] - 2s 256us/step - loss: 0.3436 - acc: 0.8632\n",
      "Epoch 84/100\n",
      "8000/8000 [==============================] - 2s 264us/step - loss: 0.3438 - acc: 0.8610\n",
      "Epoch 85/100\n",
      "8000/8000 [==============================] - 2s 260us/step - loss: 0.3431 - acc: 0.8602\n",
      "Epoch 86/100\n",
      "8000/8000 [==============================] - 2s 260us/step - loss: 0.3423 - acc: 0.8612\n",
      "Epoch 87/100\n",
      "8000/8000 [==============================] - 2s 257us/step - loss: 0.3422 - acc: 0.8614\n",
      "Epoch 88/100\n",
      "8000/8000 [==============================] - 2s 259us/step - loss: 0.3425 - acc: 0.8611\n",
      "Epoch 89/100\n",
      "8000/8000 [==============================] - 2s 259us/step - loss: 0.3422 - acc: 0.8617\n",
      "Epoch 90/100\n",
      "8000/8000 [==============================] - 2s 253us/step - loss: 0.3413 - acc: 0.8629\n",
      "Epoch 91/100\n",
      "8000/8000 [==============================] - 2s 256us/step - loss: 0.3409 - acc: 0.8612\n",
      "Epoch 92/100\n",
      "8000/8000 [==============================] - 2s 261us/step - loss: 0.3410 - acc: 0.8625\n",
      "Epoch 93/100\n",
      "8000/8000 [==============================] - 2s 262us/step - loss: 0.3407 - acc: 0.8630\n",
      "Epoch 94/100\n",
      "8000/8000 [==============================] - 2s 261us/step - loss: 0.3402 - acc: 0.8592\n",
      "Epoch 95/100\n",
      "8000/8000 [==============================] - 2s 254us/step - loss: 0.3398 - acc: 0.8624\n",
      "Epoch 96/100\n",
      "8000/8000 [==============================] - 2s 257us/step - loss: 0.3398 - acc: 0.8601\n",
      "Epoch 97/100\n",
      "8000/8000 [==============================] - 2s 256us/step - loss: 0.3404 - acc: 0.8616\n",
      "Epoch 98/100\n",
      "8000/8000 [==============================] - 2s 256us/step - loss: 0.3393 - acc: 0.8627\n",
      "Epoch 99/100\n",
      "8000/8000 [==============================] - 2s 257us/step - loss: 0.3396 - acc: 0.8597\n",
      "Epoch 100/100\n",
      "8000/8000 [==============================] - 2s 262us/step - loss: 0.3389 - acc: 0.8634\n"
     ]
    },
    {
     "data": {
      "text/plain": [
       "<keras.callbacks.History at 0x7f39597f9160>"
      ]
     },
     "execution_count": 10,
     "metadata": {},
     "output_type": "execute_result"
    }
   ],
   "source": [
    "classifier.fit(X_train, y_train,\n",
    "              batch_size = 10,\n",
    "              nb_epoch = 100)"
   ]
  },
  {
   "cell_type": "code",
   "execution_count": 11,
   "metadata": {},
   "outputs": [],
   "source": [
    "y_pred = classifier.predict(X_test)"
   ]
  },
  {
   "cell_type": "code",
   "execution_count": 12,
   "metadata": {},
   "outputs": [
    {
     "name": "stdout",
     "output_type": "stream",
     "text": [
      "Model: \"sequential_2\"\n",
      "_________________________________________________________________\n",
      "Layer (type)                 Output Shape              Param #   \n",
      "=================================================================\n",
      "dense_4 (Dense)              (None, 6)                 72        \n",
      "_________________________________________________________________\n",
      "dense_5 (Dense)              (None, 6)                 42        \n",
      "_________________________________________________________________\n",
      "dense_6 (Dense)              (None, 1)                 7         \n",
      "=================================================================\n",
      "Total params: 121\n",
      "Trainable params: 121\n",
      "Non-trainable params: 0\n",
      "_________________________________________________________________\n"
     ]
    }
   ],
   "source": [
    "classifier.summary()"
   ]
  },
  {
   "cell_type": "code",
   "execution_count": 13,
   "metadata": {},
   "outputs": [
    {
     "ename": "ValueError",
     "evalue": "Classification metrics can't handle a mix of binary and continuous targets",
     "output_type": "error",
     "traceback": [
      "\u001b[0;31m---------------------------------------------------------------------------\u001b[0m",
      "\u001b[0;31mValueError\u001b[0m                                Traceback (most recent call last)",
      "\u001b[0;32m<ipython-input-13-c4175c2f0bbb>\u001b[0m in \u001b[0;36m<module>\u001b[0;34m\u001b[0m\n\u001b[1;32m      1\u001b[0m \u001b[0;32mfrom\u001b[0m \u001b[0msklearn\u001b[0m\u001b[0;34m.\u001b[0m\u001b[0mmetrics\u001b[0m \u001b[0;32mimport\u001b[0m \u001b[0mconfusion_matrix\u001b[0m\u001b[0;34m\u001b[0m\u001b[0;34m\u001b[0m\u001b[0m\n\u001b[0;32m----> 2\u001b[0;31m \u001b[0mcm\u001b[0m \u001b[0;34m=\u001b[0m \u001b[0mconfusion_matrix\u001b[0m\u001b[0;34m(\u001b[0m\u001b[0my_test\u001b[0m\u001b[0;34m,\u001b[0m\u001b[0my_pred\u001b[0m\u001b[0;34m)\u001b[0m\u001b[0;34m\u001b[0m\u001b[0;34m\u001b[0m\u001b[0m\n\u001b[0m",
      "\u001b[0;32m~/anaconda3/lib/python3.7/site-packages/sklearn/metrics/classification.py\u001b[0m in \u001b[0;36mconfusion_matrix\u001b[0;34m(y_true, y_pred, labels, sample_weight)\u001b[0m\n\u001b[1;32m    251\u001b[0m \u001b[0;34m\u001b[0m\u001b[0m\n\u001b[1;32m    252\u001b[0m     \"\"\"\n\u001b[0;32m--> 253\u001b[0;31m     \u001b[0my_type\u001b[0m\u001b[0;34m,\u001b[0m \u001b[0my_true\u001b[0m\u001b[0;34m,\u001b[0m \u001b[0my_pred\u001b[0m \u001b[0;34m=\u001b[0m \u001b[0m_check_targets\u001b[0m\u001b[0;34m(\u001b[0m\u001b[0my_true\u001b[0m\u001b[0;34m,\u001b[0m \u001b[0my_pred\u001b[0m\u001b[0;34m)\u001b[0m\u001b[0;34m\u001b[0m\u001b[0;34m\u001b[0m\u001b[0m\n\u001b[0m\u001b[1;32m    254\u001b[0m     \u001b[0;32mif\u001b[0m \u001b[0my_type\u001b[0m \u001b[0;32mnot\u001b[0m \u001b[0;32min\u001b[0m \u001b[0;34m(\u001b[0m\u001b[0;34m\"binary\"\u001b[0m\u001b[0;34m,\u001b[0m \u001b[0;34m\"multiclass\"\u001b[0m\u001b[0;34m)\u001b[0m\u001b[0;34m:\u001b[0m\u001b[0;34m\u001b[0m\u001b[0;34m\u001b[0m\u001b[0m\n\u001b[1;32m    255\u001b[0m         \u001b[0;32mraise\u001b[0m \u001b[0mValueError\u001b[0m\u001b[0;34m(\u001b[0m\u001b[0;34m\"%s is not supported\"\u001b[0m \u001b[0;34m%\u001b[0m \u001b[0my_type\u001b[0m\u001b[0;34m)\u001b[0m\u001b[0;34m\u001b[0m\u001b[0;34m\u001b[0m\u001b[0m\n",
      "\u001b[0;32m~/anaconda3/lib/python3.7/site-packages/sklearn/metrics/classification.py\u001b[0m in \u001b[0;36m_check_targets\u001b[0;34m(y_true, y_pred)\u001b[0m\n\u001b[1;32m     79\u001b[0m     \u001b[0;32mif\u001b[0m \u001b[0mlen\u001b[0m\u001b[0;34m(\u001b[0m\u001b[0my_type\u001b[0m\u001b[0;34m)\u001b[0m \u001b[0;34m>\u001b[0m \u001b[0;36m1\u001b[0m\u001b[0;34m:\u001b[0m\u001b[0;34m\u001b[0m\u001b[0;34m\u001b[0m\u001b[0m\n\u001b[1;32m     80\u001b[0m         raise ValueError(\"Classification metrics can't handle a mix of {0} \"\n\u001b[0;32m---> 81\u001b[0;31m                          \"and {1} targets\".format(type_true, type_pred))\n\u001b[0m\u001b[1;32m     82\u001b[0m \u001b[0;34m\u001b[0m\u001b[0m\n\u001b[1;32m     83\u001b[0m     \u001b[0;31m# We can't have more than one value on y_type => The set is no more needed\u001b[0m\u001b[0;34m\u001b[0m\u001b[0;34m\u001b[0m\u001b[0;34m\u001b[0m\u001b[0m\n",
      "\u001b[0;31mValueError\u001b[0m: Classification metrics can't handle a mix of binary and continuous targets"
     ]
    }
   ],
   "source": [
    "from sklearn.metrics import confusion_matrix\n",
    "cm = confusion_matrix(y_test,y_pred)"
   ]
  },
  {
   "cell_type": "code",
   "execution_count": null,
   "metadata": {},
   "outputs": [],
   "source": []
  }
 ],
 "metadata": {
  "kernelspec": {
   "display_name": "Python 3",
   "language": "python",
   "name": "python3"
  },
  "language_info": {
   "codemirror_mode": {
    "name": "ipython",
    "version": 3
   },
   "file_extension": ".py",
   "mimetype": "text/x-python",
   "name": "python",
   "nbconvert_exporter": "python",
   "pygments_lexer": "ipython3",
   "version": "3.7.3"
  }
 },
 "nbformat": 4,
 "nbformat_minor": 2
}
