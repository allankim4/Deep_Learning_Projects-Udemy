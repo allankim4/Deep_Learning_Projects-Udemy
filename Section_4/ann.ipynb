{
 "cells": [
  {
   "cell_type": "code",
   "execution_count": 1,
   "metadata": {},
   "outputs": [],
   "source": [
    "import pandas as pd\n",
    "import numpy as np\n",
    "import matplotlib.pyplot as plt\n",
    "import seaborn as sns\n",
    "import warnings\n",
    "\n",
    "%matplotlib inline\n",
    "sns.set_style('darkgrid')\n",
    "warnings.filterwarnings('ignore')"
   ]
  },
  {
   "cell_type": "code",
   "execution_count": 2,
   "metadata": {},
   "outputs": [],
   "source": [
    "# Importing the dataset\n",
    "dataset = pd.read_csv('P16-Artificial-Neural-Networks/Artificial_Neural_Networks/Churn_Modelling.csv')\n",
    "X = dataset.iloc[:, 3:13].values\n",
    "y = dataset.iloc[:, 13].values"
   ]
  },
  {
   "cell_type": "code",
   "execution_count": 3,
   "metadata": {},
   "outputs": [
    {
     "name": "stderr",
     "output_type": "stream",
     "text": [
      "/home/allankim/anaconda3/lib/python3.7/site-packages/sklearn/preprocessing/_encoders.py:451: DeprecationWarning: The 'categorical_features' keyword is deprecated in version 0.20 and will be removed in 0.22. You can use the ColumnTransformer instead.\n",
      "  \"use the ColumnTransformer instead.\", DeprecationWarning)\n"
     ]
    }
   ],
   "source": [
    "# Encoding categorical data\n",
    "from sklearn.preprocessing import LabelEncoder, OneHotEncoder\n",
    "labelencoder_X_1 = LabelEncoder()\n",
    "X[:, 1] = labelencoder_X_1.fit_transform(X[:, 1])\n",
    "labelencoder_X_2 = LabelEncoder()\n",
    "X[:, 2] = labelencoder_X_2.fit_transform(X[:, 2])\n",
    "onehotencoder = OneHotEncoder(categorical_features = [1])\n",
    "X = onehotencoder.fit_transform(X).toarray()\n",
    "X = X[:,1:]"
   ]
  },
  {
   "cell_type": "code",
   "execution_count": 4,
   "metadata": {},
   "outputs": [],
   "source": [
    "# Splitting the dataset into the Training set and Test set\n",
    "from sklearn.model_selection import train_test_split\n",
    "X_train, X_test, y_train, y_test = train_test_split(X, y, test_size = 0.2, random_state = 0)\n"
   ]
  },
  {
   "cell_type": "code",
   "execution_count": 5,
   "metadata": {},
   "outputs": [],
   "source": [
    "# Feature Scaling\n",
    "from sklearn.preprocessing import StandardScaler\n",
    "sc = StandardScaler()\n",
    "X_train = sc.fit_transform(X_train)\n",
    "X_test = sc.transform(X_test)"
   ]
  },
  {
   "cell_type": "code",
   "execution_count": 6,
   "metadata": {},
   "outputs": [
    {
     "name": "stderr",
     "output_type": "stream",
     "text": [
      "Using TensorFlow backend.\n"
     ]
    }
   ],
   "source": [
    "#keras for ANN\n",
    "import keras\n",
    "from keras.models import Sequential\n",
    "from keras.layers import Dense\n"
   ]
  },
  {
   "cell_type": "code",
   "execution_count": 7,
   "metadata": {},
   "outputs": [
    {
     "name": "stdout",
     "output_type": "stream",
     "text": [
      "WARNING:tensorflow:From /home/allankim/anaconda3/lib/python3.7/site-packages/keras/backend/tensorflow_backend.py:66: The name tf.get_default_graph is deprecated. Please use tf.compat.v1.get_default_graph instead.\n",
      "\n",
      "WARNING:tensorflow:From /home/allankim/anaconda3/lib/python3.7/site-packages/keras/backend/tensorflow_backend.py:541: The name tf.placeholder is deprecated. Please use tf.compat.v1.placeholder instead.\n",
      "\n",
      "WARNING:tensorflow:From /home/allankim/anaconda3/lib/python3.7/site-packages/keras/backend/tensorflow_backend.py:4432: The name tf.random_uniform is deprecated. Please use tf.random.uniform instead.\n",
      "\n",
      "WARNING:tensorflow:From /home/allankim/anaconda3/lib/python3.7/site-packages/keras/optimizers.py:793: The name tf.train.Optimizer is deprecated. Please use tf.compat.v1.train.Optimizer instead.\n",
      "\n",
      "WARNING:tensorflow:From /home/allankim/anaconda3/lib/python3.7/site-packages/keras/backend/tensorflow_backend.py:3657: The name tf.log is deprecated. Please use tf.math.log instead.\n",
      "\n",
      "WARNING:tensorflow:From /home/allankim/anaconda3/lib/python3.7/site-packages/tensorflow/python/ops/nn_impl.py:180: add_dispatch_support.<locals>.wrapper (from tensorflow.python.ops.array_ops) is deprecated and will be removed in a future version.\n",
      "Instructions for updating:\n",
      "Use tf.where in 2.0, which has the same broadcast rule as np.where\n"
     ]
    }
   ],
   "source": [
    "#ANN Model\n",
    "classifier = Sequential()\n",
    "classifier.add(Dense(output_dim = 6,init = 'uniform', activation = 'relu', input_dim = 11))\n",
    "classifier.add(Dense(output_dim = 6,init = 'uniform', activation = 'relu'))\n",
    "classifier.add(Dense(output_dim = 1,init = 'uniform', activation = 'sigmoid'))\n",
    "\n",
    "#compiling the model\n",
    "classifier.compile(optimizer = 'adam',\n",
    "                  loss = 'binary_crossentropy',\n",
    "                  metrics = ['accuracy'])"
   ]
  },
  {
   "cell_type": "code",
   "execution_count": 8,
   "metadata": {
    "scrolled": false
   },
   "outputs": [
    {
     "name": "stdout",
     "output_type": "stream",
     "text": [
      "WARNING:tensorflow:From /home/allankim/anaconda3/lib/python3.7/site-packages/keras/backend/tensorflow_backend.py:1033: The name tf.assign_add is deprecated. Please use tf.compat.v1.assign_add instead.\n",
      "\n",
      "Epoch 1/100\n",
      "8000/8000 [==============================] - 4s 506us/step - loss: 0.4954 - acc: 0.7951\n",
      "Epoch 2/100\n",
      "8000/8000 [==============================] - 2s 262us/step - loss: 0.4283 - acc: 0.7960\n",
      "Epoch 3/100\n",
      "8000/8000 [==============================] - 2s 249us/step - loss: 0.4232 - acc: 0.7960\n",
      "Epoch 4/100\n",
      "8000/8000 [==============================] - 2s 247us/step - loss: 0.4195 - acc: 0.8056\n",
      "Epoch 5/100\n",
      "8000/8000 [==============================] - 2s 253us/step - loss: 0.4162 - acc: 0.8251\n",
      "Epoch 6/100\n",
      "8000/8000 [==============================] - 2s 258us/step - loss: 0.4148 - acc: 0.8301\n",
      "Epoch 7/100\n",
      "8000/8000 [==============================] - 2s 245us/step - loss: 0.4132 - acc: 0.8315\n",
      "Epoch 8/100\n",
      "8000/8000 [==============================] - 2s 249us/step - loss: 0.4113 - acc: 0.8319\n",
      "Epoch 9/100\n",
      "8000/8000 [==============================] - 2s 249us/step - loss: 0.4107 - acc: 0.8331\n",
      "Epoch 10/100\n",
      "8000/8000 [==============================] - 2s 248us/step - loss: 0.4086 - acc: 0.8339\n",
      "Epoch 11/100\n",
      "8000/8000 [==============================] - 2s 244us/step - loss: 0.4056 - acc: 0.8334\n",
      "Epoch 12/100\n",
      "8000/8000 [==============================] - 2s 249us/step - loss: 0.4035 - acc: 0.8349\n",
      "Epoch 13/100\n",
      "8000/8000 [==============================] - 2s 254us/step - loss: 0.4025 - acc: 0.8346\n",
      "Epoch 14/100\n",
      "8000/8000 [==============================] - 2s 259us/step - loss: 0.4012 - acc: 0.8359\n",
      "Epoch 15/100\n",
      "8000/8000 [==============================] - 2s 264us/step - loss: 0.4000 - acc: 0.8352\n",
      "Epoch 16/100\n",
      "8000/8000 [==============================] - 2s 258us/step - loss: 0.3995 - acc: 0.8361\n",
      "Epoch 17/100\n",
      "8000/8000 [==============================] - 2s 249us/step - loss: 0.3989 - acc: 0.8334\n",
      "Epoch 18/100\n",
      "8000/8000 [==============================] - 2s 246us/step - loss: 0.3987 - acc: 0.8350\n",
      "Epoch 19/100\n",
      "8000/8000 [==============================] - 2s 247us/step - loss: 0.3977 - acc: 0.8356\n",
      "Epoch 20/100\n",
      "8000/8000 [==============================] - 2s 252us/step - loss: 0.3975 - acc: 0.8349\n",
      "Epoch 21/100\n",
      "8000/8000 [==============================] - 2s 243us/step - loss: 0.3976 - acc: 0.8364\n",
      "Epoch 22/100\n",
      "8000/8000 [==============================] - 2s 250us/step - loss: 0.3971 - acc: 0.8369\n",
      "Epoch 23/100\n",
      "8000/8000 [==============================] - 2s 245us/step - loss: 0.3968 - acc: 0.8346\n",
      "Epoch 24/100\n",
      "8000/8000 [==============================] - 2s 248us/step - loss: 0.3965 - acc: 0.8361\n",
      "Epoch 25/100\n",
      "8000/8000 [==============================] - 2s 249us/step - loss: 0.3957 - acc: 0.8350\n",
      "Epoch 26/100\n",
      "8000/8000 [==============================] - 2s 243us/step - loss: 0.3961 - acc: 0.8355\n",
      "Epoch 27/100\n",
      "8000/8000 [==============================] - 2s 252us/step - loss: 0.3957 - acc: 0.8341\n",
      "Epoch 28/100\n",
      "8000/8000 [==============================] - 2s 265us/step - loss: 0.3956 - acc: 0.8351\n",
      "Epoch 29/100\n",
      "8000/8000 [==============================] - 2s 250us/step - loss: 0.3952 - acc: 0.8360\n",
      "Epoch 30/100\n",
      "8000/8000 [==============================] - 2s 250us/step - loss: 0.3951 - acc: 0.8357\n",
      "Epoch 31/100\n",
      "8000/8000 [==============================] - 2s 247us/step - loss: 0.3952 - acc: 0.8337\n",
      "Epoch 32/100\n",
      "8000/8000 [==============================] - 2s 244us/step - loss: 0.3950 - acc: 0.8367\n",
      "Epoch 33/100\n",
      "8000/8000 [==============================] - 2s 255us/step - loss: 0.3950 - acc: 0.8355\n",
      "Epoch 34/100\n",
      "8000/8000 [==============================] - 2s 252us/step - loss: 0.3949 - acc: 0.8355\n",
      "Epoch 35/100\n",
      "8000/8000 [==============================] - 2s 247us/step - loss: 0.3947 - acc: 0.8352\n",
      "Epoch 36/100\n",
      "8000/8000 [==============================] - 2s 245us/step - loss: 0.3949 - acc: 0.8375\n",
      "Epoch 37/100\n",
      "8000/8000 [==============================] - 2s 248us/step - loss: 0.3946 - acc: 0.8352\n",
      "Epoch 38/100\n",
      "8000/8000 [==============================] - 2s 247us/step - loss: 0.3946 - acc: 0.8370\n",
      "Epoch 39/100\n",
      "8000/8000 [==============================] - 2s 245us/step - loss: 0.3943 - acc: 0.8352\n",
      "Epoch 40/100\n",
      "8000/8000 [==============================] - 2s 244us/step - loss: 0.3943 - acc: 0.8371\n",
      "Epoch 41/100\n",
      "8000/8000 [==============================] - 2s 258us/step - loss: 0.3941 - acc: 0.8374\n",
      "Epoch 42/100\n",
      "8000/8000 [==============================] - 2s 261us/step - loss: 0.3940 - acc: 0.8356\n",
      "Epoch 43/100\n",
      "8000/8000 [==============================] - 2s 247us/step - loss: 0.3942 - acc: 0.8359\n",
      "Epoch 44/100\n",
      "8000/8000 [==============================] - 2s 244us/step - loss: 0.3941 - acc: 0.8350\n",
      "Epoch 45/100\n",
      "8000/8000 [==============================] - 2s 244us/step - loss: 0.3943 - acc: 0.8354\n",
      "Epoch 46/100\n",
      "8000/8000 [==============================] - 2s 251us/step - loss: 0.3941 - acc: 0.8354\n",
      "Epoch 47/100\n",
      "8000/8000 [==============================] - 2s 257us/step - loss: 0.3939 - acc: 0.8362\n",
      "Epoch 48/100\n",
      "8000/8000 [==============================] - 2s 263us/step - loss: 0.3936 - acc: 0.8355\n",
      "Epoch 49/100\n",
      "8000/8000 [==============================] - 2s 254us/step - loss: 0.3941 - acc: 0.8357\n",
      "Epoch 50/100\n",
      "8000/8000 [==============================] - 2s 258us/step - loss: 0.3939 - acc: 0.8360\n",
      "Epoch 51/100\n",
      "8000/8000 [==============================] - 2s 259us/step - loss: 0.3938 - acc: 0.8371\n",
      "Epoch 52/100\n",
      "8000/8000 [==============================] - 2s 258us/step - loss: 0.3941 - acc: 0.8356\n",
      "Epoch 53/100\n",
      "8000/8000 [==============================] - 2s 262us/step - loss: 0.3934 - acc: 0.8367\n",
      "Epoch 54/100\n",
      "8000/8000 [==============================] - 2s 254us/step - loss: 0.3939 - acc: 0.8362\n",
      "Epoch 55/100\n",
      "8000/8000 [==============================] - 2s 261us/step - loss: 0.3932 - acc: 0.8360\n",
      "Epoch 56/100\n",
      "8000/8000 [==============================] - 2s 258us/step - loss: 0.3935 - acc: 0.8361\n",
      "Epoch 57/100\n",
      "8000/8000 [==============================] - 2s 257us/step - loss: 0.3939 - acc: 0.8359\n",
      "Epoch 58/100\n",
      "8000/8000 [==============================] - 2s 249us/step - loss: 0.3939 - acc: 0.8359\n",
      "Epoch 59/100\n",
      "8000/8000 [==============================] - 2s 248us/step - loss: 0.3939 - acc: 0.8367\n",
      "Epoch 60/100\n",
      "8000/8000 [==============================] - 2s 246us/step - loss: 0.3936 - acc: 0.8379\n",
      "Epoch 61/100\n",
      "8000/8000 [==============================] - 2s 247us/step - loss: 0.3932 - acc: 0.8377\n",
      "Epoch 62/100\n",
      "8000/8000 [==============================] - 2s 250us/step - loss: 0.3937 - acc: 0.8350\n",
      "Epoch 63/100\n",
      "8000/8000 [==============================] - 2s 251us/step - loss: 0.3931 - acc: 0.8386\n",
      "Epoch 64/100\n",
      "8000/8000 [==============================] - 2s 243us/step - loss: 0.3935 - acc: 0.8361\n",
      "Epoch 65/100\n",
      "8000/8000 [==============================] - 2s 252us/step - loss: 0.3932 - acc: 0.8371\n",
      "Epoch 66/100\n",
      "8000/8000 [==============================] - 2s 244us/step - loss: 0.3931 - acc: 0.8361\n",
      "Epoch 67/100\n",
      "8000/8000 [==============================] - 2s 252us/step - loss: 0.3935 - acc: 0.8372\n",
      "Epoch 68/100\n",
      "8000/8000 [==============================] - 2s 247us/step - loss: 0.3936 - acc: 0.8362\n",
      "Epoch 69/100\n",
      "8000/8000 [==============================] - 2s 259us/step - loss: 0.3933 - acc: 0.8362\n",
      "Epoch 70/100\n",
      "8000/8000 [==============================] - 2s 257us/step - loss: 0.3933 - acc: 0.8366\n",
      "Epoch 71/100\n",
      "8000/8000 [==============================] - 2s 258us/step - loss: 0.3934 - acc: 0.8359\n",
      "Epoch 72/100\n",
      "8000/8000 [==============================] - 2s 258us/step - loss: 0.3934 - acc: 0.8366\n",
      "Epoch 73/100\n",
      "8000/8000 [==============================] - 2s 247us/step - loss: 0.3931 - acc: 0.8380\n",
      "Epoch 74/100\n",
      "8000/8000 [==============================] - 2s 248us/step - loss: 0.3935 - acc: 0.8384\n",
      "Epoch 75/100\n",
      "8000/8000 [==============================] - 2s 244us/step - loss: 0.3932 - acc: 0.8365\n",
      "Epoch 76/100\n",
      "8000/8000 [==============================] - 2s 251us/step - loss: 0.3928 - acc: 0.8372\n",
      "Epoch 77/100\n",
      "8000/8000 [==============================] - 2s 247us/step - loss: 0.3927 - acc: 0.8364\n",
      "Epoch 78/100\n",
      "8000/8000 [==============================] - 2s 246us/step - loss: 0.3935 - acc: 0.8369\n",
      "Epoch 79/100\n",
      "8000/8000 [==============================] - 2s 249us/step - loss: 0.3937 - acc: 0.8367\n",
      "Epoch 80/100\n"
     ]
    },
    {
     "name": "stdout",
     "output_type": "stream",
     "text": [
      "8000/8000 [==============================] - 2s 241us/step - loss: 0.3927 - acc: 0.8375\n",
      "Epoch 81/100\n",
      "8000/8000 [==============================] - 2s 243us/step - loss: 0.3931 - acc: 0.8374\n",
      "Epoch 82/100\n",
      "8000/8000 [==============================] - 2s 244us/step - loss: 0.3938 - acc: 0.8380\n",
      "Epoch 83/100\n",
      "8000/8000 [==============================] - 2s 248us/step - loss: 0.3934 - acc: 0.8362\n",
      "Epoch 84/100\n",
      "8000/8000 [==============================] - 2s 243us/step - loss: 0.3929 - acc: 0.8370\n",
      "Epoch 85/100\n",
      "8000/8000 [==============================] - 2s 246us/step - loss: 0.3931 - acc: 0.8369\n",
      "Epoch 86/100\n",
      "8000/8000 [==============================] - 2s 247us/step - loss: 0.3931 - acc: 0.8380\n",
      "Epoch 87/100\n",
      "8000/8000 [==============================] - 2s 246us/step - loss: 0.3925 - acc: 0.8379\n",
      "Epoch 88/100\n",
      "8000/8000 [==============================] - 2s 244us/step - loss: 0.3929 - acc: 0.8371\n",
      "Epoch 89/100\n",
      "8000/8000 [==============================] - 2s 250us/step - loss: 0.3928 - acc: 0.8392\n",
      "Epoch 90/100\n",
      "8000/8000 [==============================] - 2s 245us/step - loss: 0.3932 - acc: 0.8370\n",
      "Epoch 91/100\n",
      "8000/8000 [==============================] - 2s 247us/step - loss: 0.3928 - acc: 0.8385\n",
      "Epoch 92/100\n",
      "8000/8000 [==============================] - 2s 247us/step - loss: 0.3926 - acc: 0.8369\n",
      "Epoch 93/100\n",
      "8000/8000 [==============================] - 2s 244us/step - loss: 0.3924 - acc: 0.8370\n",
      "Epoch 94/100\n",
      "8000/8000 [==============================] - 2s 246us/step - loss: 0.3933 - acc: 0.8379\n",
      "Epoch 95/100\n",
      "8000/8000 [==============================] - 2s 253us/step - loss: 0.3926 - acc: 0.8385\n",
      "Epoch 96/100\n",
      "8000/8000 [==============================] - 2s 258us/step - loss: 0.3923 - acc: 0.8379\n",
      "Epoch 97/100\n",
      "8000/8000 [==============================] - 2s 250us/step - loss: 0.3921 - acc: 0.8376\n",
      "Epoch 98/100\n",
      "8000/8000 [==============================] - 2s 242us/step - loss: 0.3921 - acc: 0.8385\n",
      "Epoch 99/100\n",
      "8000/8000 [==============================] - 2s 247us/step - loss: 0.3918 - acc: 0.8381\n",
      "Epoch 100/100\n",
      "8000/8000 [==============================] - 2s 250us/step - loss: 0.3918 - acc: 0.8386\n"
     ]
    },
    {
     "data": {
      "text/plain": [
       "<keras.callbacks.History at 0x7f2198c3da20>"
      ]
     },
     "execution_count": 8,
     "metadata": {},
     "output_type": "execute_result"
    }
   ],
   "source": [
    "classifier.fit(X_train, y_train,\n",
    "              batch_size = 10,\n",
    "              nb_epoch = 100)"
   ]
  },
  {
   "cell_type": "code",
   "execution_count": 14,
   "metadata": {},
   "outputs": [],
   "source": [
    "y_pred = classifier.predict(X_test)\n",
    "y_pred = (y_pred > 0.5)"
   ]
  },
  {
   "cell_type": "code",
   "execution_count": 10,
   "metadata": {},
   "outputs": [
    {
     "name": "stdout",
     "output_type": "stream",
     "text": [
      "Model: \"sequential_1\"\n",
      "_________________________________________________________________\n",
      "Layer (type)                 Output Shape              Param #   \n",
      "=================================================================\n",
      "dense_1 (Dense)              (None, 6)                 72        \n",
      "_________________________________________________________________\n",
      "dense_2 (Dense)              (None, 6)                 42        \n",
      "_________________________________________________________________\n",
      "dense_3 (Dense)              (None, 1)                 7         \n",
      "=================================================================\n",
      "Total params: 121\n",
      "Trainable params: 121\n",
      "Non-trainable params: 0\n",
      "_________________________________________________________________\n"
     ]
    }
   ],
   "source": [
    "classifier.summary()"
   ]
  },
  {
   "cell_type": "code",
   "execution_count": 11,
   "metadata": {},
   "outputs": [],
   "source": [
    "#saving the trained Model\n",
    "#classifier.save('ANN.h5')"
   ]
  },
  {
   "cell_type": "code",
   "execution_count": 15,
   "metadata": {},
   "outputs": [],
   "source": [
    "from sklearn.metrics import confusion_matrix\n",
    "cm = confusion_matrix(y_test,y_pred)"
   ]
  },
  {
   "cell_type": "code",
   "execution_count": 16,
   "metadata": {},
   "outputs": [
    {
     "data": {
      "text/plain": [
       "array([[1547,   48],\n",
       "       [ 260,  145]])"
      ]
     },
     "execution_count": 16,
     "metadata": {},
     "output_type": "execute_result"
    }
   ],
   "source": [
    "cm"
   ]
  },
  {
   "cell_type": "code",
   "execution_count": 22,
   "metadata": {},
   "outputs": [
    {
     "data": {
      "text/html": [
       "<div>\n",
       "<style scoped>\n",
       "    .dataframe tbody tr th:only-of-type {\n",
       "        vertical-align: middle;\n",
       "    }\n",
       "\n",
       "    .dataframe tbody tr th {\n",
       "        vertical-align: top;\n",
       "    }\n",
       "\n",
       "    .dataframe thead th {\n",
       "        text-align: right;\n",
       "    }\n",
       "</style>\n",
       "<table border=\"1\" class=\"dataframe\">\n",
       "  <thead>\n",
       "    <tr style=\"text-align: right;\">\n",
       "      <th></th>\n",
       "      <th>RowNumber</th>\n",
       "      <th>CustomerId</th>\n",
       "      <th>Surname</th>\n",
       "      <th>CreditScore</th>\n",
       "      <th>Geography</th>\n",
       "      <th>Gender</th>\n",
       "      <th>Age</th>\n",
       "      <th>Tenure</th>\n",
       "      <th>Balance</th>\n",
       "      <th>NumOfProducts</th>\n",
       "      <th>HasCrCard</th>\n",
       "      <th>IsActiveMember</th>\n",
       "      <th>EstimatedSalary</th>\n",
       "      <th>Exited</th>\n",
       "    </tr>\n",
       "  </thead>\n",
       "  <tbody>\n",
       "    <tr>\n",
       "      <th>0</th>\n",
       "      <td>1</td>\n",
       "      <td>15634602</td>\n",
       "      <td>Hargrave</td>\n",
       "      <td>619</td>\n",
       "      <td>France</td>\n",
       "      <td>Female</td>\n",
       "      <td>42</td>\n",
       "      <td>2</td>\n",
       "      <td>0.00</td>\n",
       "      <td>1</td>\n",
       "      <td>1</td>\n",
       "      <td>1</td>\n",
       "      <td>101348.88</td>\n",
       "      <td>1</td>\n",
       "    </tr>\n",
       "    <tr>\n",
       "      <th>1</th>\n",
       "      <td>2</td>\n",
       "      <td>15647311</td>\n",
       "      <td>Hill</td>\n",
       "      <td>608</td>\n",
       "      <td>Spain</td>\n",
       "      <td>Female</td>\n",
       "      <td>41</td>\n",
       "      <td>1</td>\n",
       "      <td>83807.86</td>\n",
       "      <td>1</td>\n",
       "      <td>0</td>\n",
       "      <td>1</td>\n",
       "      <td>112542.58</td>\n",
       "      <td>0</td>\n",
       "    </tr>\n",
       "    <tr>\n",
       "      <th>2</th>\n",
       "      <td>3</td>\n",
       "      <td>15619304</td>\n",
       "      <td>Onio</td>\n",
       "      <td>502</td>\n",
       "      <td>France</td>\n",
       "      <td>Female</td>\n",
       "      <td>42</td>\n",
       "      <td>8</td>\n",
       "      <td>159660.80</td>\n",
       "      <td>3</td>\n",
       "      <td>1</td>\n",
       "      <td>0</td>\n",
       "      <td>113931.57</td>\n",
       "      <td>1</td>\n",
       "    </tr>\n",
       "    <tr>\n",
       "      <th>3</th>\n",
       "      <td>4</td>\n",
       "      <td>15701354</td>\n",
       "      <td>Boni</td>\n",
       "      <td>699</td>\n",
       "      <td>France</td>\n",
       "      <td>Female</td>\n",
       "      <td>39</td>\n",
       "      <td>1</td>\n",
       "      <td>0.00</td>\n",
       "      <td>2</td>\n",
       "      <td>0</td>\n",
       "      <td>0</td>\n",
       "      <td>93826.63</td>\n",
       "      <td>0</td>\n",
       "    </tr>\n",
       "    <tr>\n",
       "      <th>4</th>\n",
       "      <td>5</td>\n",
       "      <td>15737888</td>\n",
       "      <td>Mitchell</td>\n",
       "      <td>850</td>\n",
       "      <td>Spain</td>\n",
       "      <td>Female</td>\n",
       "      <td>43</td>\n",
       "      <td>2</td>\n",
       "      <td>125510.82</td>\n",
       "      <td>1</td>\n",
       "      <td>1</td>\n",
       "      <td>1</td>\n",
       "      <td>79084.10</td>\n",
       "      <td>0</td>\n",
       "    </tr>\n",
       "  </tbody>\n",
       "</table>\n",
       "</div>"
      ],
      "text/plain": [
       "   RowNumber  CustomerId   Surname  CreditScore Geography  Gender  Age  \\\n",
       "0          1    15634602  Hargrave          619    France  Female   42   \n",
       "1          2    15647311      Hill          608     Spain  Female   41   \n",
       "2          3    15619304      Onio          502    France  Female   42   \n",
       "3          4    15701354      Boni          699    France  Female   39   \n",
       "4          5    15737888  Mitchell          850     Spain  Female   43   \n",
       "\n",
       "   Tenure    Balance  NumOfProducts  HasCrCard  IsActiveMember  \\\n",
       "0       2       0.00              1          1               1   \n",
       "1       1   83807.86              1          0               1   \n",
       "2       8  159660.80              3          1               0   \n",
       "3       1       0.00              2          0               0   \n",
       "4       2  125510.82              1          1               1   \n",
       "\n",
       "   EstimatedSalary  Exited  \n",
       "0        101348.88       1  \n",
       "1        112542.58       0  \n",
       "2        113931.57       1  \n",
       "3         93826.63       0  \n",
       "4         79084.10       0  "
      ]
     },
     "execution_count": 22,
     "metadata": {},
     "output_type": "execute_result"
    }
   ],
   "source": [
    "dataset.head()"
   ]
  },
  {
   "cell_type": "code",
   "execution_count": 20,
   "metadata": {
    "scrolled": true
   },
   "outputs": [
    {
     "data": {
      "text/plain": [
       "array([0.0000000e+00, 1.0000000e+00, 6.0800000e+02, 0.0000000e+00,\n",
       "       4.1000000e+01, 1.0000000e+00, 8.3807860e+04, 1.0000000e+00,\n",
       "       0.0000000e+00, 1.0000000e+00, 1.1254258e+05])"
      ]
     },
     "execution_count": 20,
     "metadata": {},
     "output_type": "execute_result"
    }
   ],
   "source": [
    "#Using the trained model to predict a profile\n",
    "new_pred = classifier.predict(sc.transform(np.array([[0, 0, 600, 1, 40, 3, 60000, 2, 1, 1, 50000]]))"
   ]
  },
  {
   "cell_type": "code",
   "execution_count": null,
   "metadata": {},
   "outputs": [],
   "source": []
  }
 ],
 "metadata": {
  "kernelspec": {
   "display_name": "Python 3",
   "language": "python",
   "name": "python3"
  },
  "language_info": {
   "codemirror_mode": {
    "name": "ipython",
    "version": 3
   },
   "file_extension": ".py",
   "mimetype": "text/x-python",
   "name": "python",
   "nbconvert_exporter": "python",
   "pygments_lexer": "ipython3",
   "version": "3.7.3"
  }
 },
 "nbformat": 4,
 "nbformat_minor": 2
}
