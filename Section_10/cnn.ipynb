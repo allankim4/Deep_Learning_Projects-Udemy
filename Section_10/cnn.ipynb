{
 "cells": [
  {
   "cell_type": "code",
   "execution_count": 1,
   "metadata": {},
   "outputs": [
    {
     "name": "stderr",
     "output_type": "stream",
     "text": [
      "Using TensorFlow backend.\n",
      "/home/allankim/anaconda3/lib/python3.7/site-packages/tensorflow/python/framework/dtypes.py:516: FutureWarning: Passing (type, 1) or '1type' as a synonym of type is deprecated; in a future version of numpy, it will be understood as (type, (1,)) / '(1,)type'.\n",
      "  _np_qint8 = np.dtype([(\"qint8\", np.int8, 1)])\n",
      "/home/allankim/anaconda3/lib/python3.7/site-packages/tensorflow/python/framework/dtypes.py:517: FutureWarning: Passing (type, 1) or '1type' as a synonym of type is deprecated; in a future version of numpy, it will be understood as (type, (1,)) / '(1,)type'.\n",
      "  _np_quint8 = np.dtype([(\"quint8\", np.uint8, 1)])\n",
      "/home/allankim/anaconda3/lib/python3.7/site-packages/tensorflow/python/framework/dtypes.py:518: FutureWarning: Passing (type, 1) or '1type' as a synonym of type is deprecated; in a future version of numpy, it will be understood as (type, (1,)) / '(1,)type'.\n",
      "  _np_qint16 = np.dtype([(\"qint16\", np.int16, 1)])\n",
      "/home/allankim/anaconda3/lib/python3.7/site-packages/tensorflow/python/framework/dtypes.py:519: FutureWarning: Passing (type, 1) or '1type' as a synonym of type is deprecated; in a future version of numpy, it will be understood as (type, (1,)) / '(1,)type'.\n",
      "  _np_quint16 = np.dtype([(\"quint16\", np.uint16, 1)])\n",
      "/home/allankim/anaconda3/lib/python3.7/site-packages/tensorflow/python/framework/dtypes.py:520: FutureWarning: Passing (type, 1) or '1type' as a synonym of type is deprecated; in a future version of numpy, it will be understood as (type, (1,)) / '(1,)type'.\n",
      "  _np_qint32 = np.dtype([(\"qint32\", np.int32, 1)])\n",
      "/home/allankim/anaconda3/lib/python3.7/site-packages/tensorflow/python/framework/dtypes.py:525: FutureWarning: Passing (type, 1) or '1type' as a synonym of type is deprecated; in a future version of numpy, it will be understood as (type, (1,)) / '(1,)type'.\n",
      "  np_resource = np.dtype([(\"resource\", np.ubyte, 1)])\n",
      "/home/allankim/anaconda3/lib/python3.7/site-packages/tensorboard/compat/tensorflow_stub/dtypes.py:541: FutureWarning: Passing (type, 1) or '1type' as a synonym of type is deprecated; in a future version of numpy, it will be understood as (type, (1,)) / '(1,)type'.\n",
      "  _np_qint8 = np.dtype([(\"qint8\", np.int8, 1)])\n",
      "/home/allankim/anaconda3/lib/python3.7/site-packages/tensorboard/compat/tensorflow_stub/dtypes.py:542: FutureWarning: Passing (type, 1) or '1type' as a synonym of type is deprecated; in a future version of numpy, it will be understood as (type, (1,)) / '(1,)type'.\n",
      "  _np_quint8 = np.dtype([(\"quint8\", np.uint8, 1)])\n",
      "/home/allankim/anaconda3/lib/python3.7/site-packages/tensorboard/compat/tensorflow_stub/dtypes.py:543: FutureWarning: Passing (type, 1) or '1type' as a synonym of type is deprecated; in a future version of numpy, it will be understood as (type, (1,)) / '(1,)type'.\n",
      "  _np_qint16 = np.dtype([(\"qint16\", np.int16, 1)])\n",
      "/home/allankim/anaconda3/lib/python3.7/site-packages/tensorboard/compat/tensorflow_stub/dtypes.py:544: FutureWarning: Passing (type, 1) or '1type' as a synonym of type is deprecated; in a future version of numpy, it will be understood as (type, (1,)) / '(1,)type'.\n",
      "  _np_quint16 = np.dtype([(\"quint16\", np.uint16, 1)])\n",
      "/home/allankim/anaconda3/lib/python3.7/site-packages/tensorboard/compat/tensorflow_stub/dtypes.py:545: FutureWarning: Passing (type, 1) or '1type' as a synonym of type is deprecated; in a future version of numpy, it will be understood as (type, (1,)) / '(1,)type'.\n",
      "  _np_qint32 = np.dtype([(\"qint32\", np.int32, 1)])\n",
      "/home/allankim/anaconda3/lib/python3.7/site-packages/tensorboard/compat/tensorflow_stub/dtypes.py:550: FutureWarning: Passing (type, 1) or '1type' as a synonym of type is deprecated; in a future version of numpy, it will be understood as (type, (1,)) / '(1,)type'.\n",
      "  np_resource = np.dtype([(\"resource\", np.ubyte, 1)])\n"
     ]
    }
   ],
   "source": [
    "# Importing the Keras libraries and packages\n",
    "from keras.models import Sequential\n",
    "from keras.layers import Convolution2D\n",
    "from keras.layers import MaxPooling2D\n",
    "from keras.layers import Flatten\n",
    "from keras.layers import Dense\n"
   ]
  },
  {
   "cell_type": "code",
   "execution_count": 10,
   "metadata": {},
   "outputs": [
    {
     "name": "stderr",
     "output_type": "stream",
     "text": [
      "/home/allankim/anaconda3/lib/python3.7/site-packages/ipykernel_launcher.py:5: UserWarning: Update your `Conv2D` call to the Keras 2 API: `Conv2D(32, (3, 3), input_shape=(64, 64, 3..., activation=\"relu\")`\n",
      "  \"\"\"\n",
      "/home/allankim/anaconda3/lib/python3.7/site-packages/ipykernel_launcher.py:11: UserWarning: Update your `Conv2D` call to the Keras 2 API: `Conv2D(32, (3, 3), activation=\"relu\")`\n",
      "  # This is added back by InteractiveShellApp.init_path()\n"
     ]
    }
   ],
   "source": [
    "# Initialising the CNN\n",
    "classifier = Sequential()\n",
    "\n",
    "# Convolution\n",
    "classifier.add(Convolution2D(32, 3, 3, input_shape = (64, 64, 3), activation = 'relu'))\n",
    "\n",
    "# Pooling\n",
    "classifier.add(MaxPooling2D(pool_size = (2, 2)))\n",
    "\n",
    "# Adding a second convolutional layer\n",
    "classifier.add(Convolution2D(32, 3, 3, activation = 'relu'))\n",
    "classifier.add(MaxPooling2D(pool_size = (2, 2)))"
   ]
  },
  {
   "cell_type": "code",
   "execution_count": 11,
   "metadata": {},
   "outputs": [],
   "source": [
    "# Flattening the Model\n",
    "classifier.add(Flatten())"
   ]
  },
  {
   "cell_type": "code",
   "execution_count": 12,
   "metadata": {},
   "outputs": [
    {
     "name": "stderr",
     "output_type": "stream",
     "text": [
      "/home/allankim/anaconda3/lib/python3.7/site-packages/ipykernel_launcher.py:2: UserWarning: Update your `Dense` call to the Keras 2 API: `Dense(activation=\"relu\", units=128)`\n",
      "  \n",
      "/home/allankim/anaconda3/lib/python3.7/site-packages/ipykernel_launcher.py:3: UserWarning: Update your `Dense` call to the Keras 2 API: `Dense(activation=\"sigmoid\", units=1)`\n",
      "  This is separate from the ipykernel package so we can avoid doing imports until\n"
     ]
    }
   ],
   "source": [
    "# Connecting all layer\n",
    "classifier.add(Dense(output_dim = 128, activation = 'relu'))\n",
    "classifier.add(Dense(output_dim = 1, activation = 'sigmoid'))"
   ]
  },
  {
   "cell_type": "code",
   "execution_count": 13,
   "metadata": {},
   "outputs": [],
   "source": [
    "# Compiling the model\n",
    "classifier.compile(optimizer = 'adam',\n",
    "                  loss = 'binary_crossentropy',\n",
    "                  metrics = ['accuracy'])"
   ]
  },
  {
   "cell_type": "code",
   "execution_count": 14,
   "metadata": {},
   "outputs": [
    {
     "name": "stdout",
     "output_type": "stream",
     "text": [
      "Found 8000 images belonging to 2 classes.\n",
      "Found 2000 images belonging to 2 classes.\n",
      "Epoch 1/50\n",
      "2000/2000 [==============================] - 82s 41ms/step - loss: 0.5497 - accuracy: 0.7020 - val_loss: 0.5174 - val_accuracy: 0.7634\n",
      "Epoch 2/50\n",
      "2000/2000 [==============================] - 82s 41ms/step - loss: 0.3428 - accuracy: 0.8480 - val_loss: 0.5709 - val_accuracy: 0.7877\n",
      "Epoch 3/50\n",
      "2000/2000 [==============================] - 82s 41ms/step - loss: 0.1914 - accuracy: 0.9237 - val_loss: 0.5994 - val_accuracy: 0.7916\n",
      "Epoch 4/50\n",
      "2000/2000 [==============================] - 81s 41ms/step - loss: 0.1129 - accuracy: 0.9576 - val_loss: 1.1836 - val_accuracy: 0.7914\n",
      "Epoch 5/50\n",
      "2000/2000 [==============================] - 82s 41ms/step - loss: 0.0731 - accuracy: 0.9737 - val_loss: 0.6795 - val_accuracy: 0.7821\n",
      "Epoch 6/50\n",
      "2000/2000 [==============================] - 82s 41ms/step - loss: 0.0569 - accuracy: 0.9801 - val_loss: 0.3655 - val_accuracy: 0.7910\n",
      "Epoch 7/50\n",
      "2000/2000 [==============================] - 82s 41ms/step - loss: 0.0451 - accuracy: 0.9841 - val_loss: 1.3182 - val_accuracy: 0.7892\n",
      "Epoch 8/50\n",
      "2000/2000 [==============================] - 82s 41ms/step - loss: 0.0428 - accuracy: 0.9853 - val_loss: 1.1799 - val_accuracy: 0.7828\n",
      "Epoch 9/50\n",
      "2000/2000 [==============================] - 82s 41ms/step - loss: 0.0331 - accuracy: 0.9888 - val_loss: 1.4244 - val_accuracy: 0.7953\n",
      "Epoch 10/50\n",
      "2000/2000 [==============================] - 82s 41ms/step - loss: 0.0331 - accuracy: 0.9887 - val_loss: 1.1070 - val_accuracy: 0.7822\n",
      "Epoch 11/50\n",
      "2000/2000 [==============================] - 82s 41ms/step - loss: 0.0295 - accuracy: 0.9904 - val_loss: 1.5485 - val_accuracy: 0.7882\n",
      "Epoch 12/50\n",
      "2000/2000 [==============================] - 82s 41ms/step - loss: 0.0254 - accuracy: 0.9912 - val_loss: 1.3151 - val_accuracy: 0.7766\n",
      "Epoch 13/50\n",
      "2000/2000 [==============================] - 82s 41ms/step - loss: 0.0253 - accuracy: 0.9915 - val_loss: 1.6031 - val_accuracy: 0.7866\n",
      "Epoch 14/50\n",
      "2000/2000 [==============================] - 81s 41ms/step - loss: 0.0222 - accuracy: 0.9927 - val_loss: 1.4035 - val_accuracy: 0.7950\n",
      "Epoch 15/50\n",
      "2000/2000 [==============================] - 82s 41ms/step - loss: 0.0254 - accuracy: 0.9917 - val_loss: 0.4769 - val_accuracy: 0.7891\n",
      "Epoch 16/50\n",
      "2000/2000 [==============================] - 81s 41ms/step - loss: 0.0199 - accuracy: 0.9933 - val_loss: 1.2733 - val_accuracy: 0.7916\n",
      "Epoch 17/50\n",
      "2000/2000 [==============================] - 82s 41ms/step - loss: 0.0218 - accuracy: 0.9927 - val_loss: 1.8555 - val_accuracy: 0.7822\n",
      "Epoch 18/50\n",
      "2000/2000 [==============================] - 82s 41ms/step - loss: 0.0194 - accuracy: 0.9935 - val_loss: 0.9249 - val_accuracy: 0.7911\n",
      "Epoch 19/50\n",
      "2000/2000 [==============================] - 82s 41ms/step - loss: 0.0175 - accuracy: 0.9940 - val_loss: 1.0783 - val_accuracy: 0.7942\n",
      "Epoch 20/50\n",
      "2000/2000 [==============================] - 82s 41ms/step - loss: 0.0177 - accuracy: 0.9941 - val_loss: 2.1019 - val_accuracy: 0.7848\n",
      "Epoch 21/50\n",
      "2000/2000 [==============================] - 82s 41ms/step - loss: 0.0175 - accuracy: 0.9945 - val_loss: 1.8536 - val_accuracy: 0.7794\n",
      "Epoch 22/50\n",
      "2000/2000 [==============================] - 82s 41ms/step - loss: 0.0171 - accuracy: 0.9946 - val_loss: 2.1865 - val_accuracy: 0.7874\n",
      "Epoch 23/50\n",
      "2000/2000 [==============================] - 82s 41ms/step - loss: 0.0154 - accuracy: 0.9948 - val_loss: 2.5169 - val_accuracy: 0.7814\n",
      "Epoch 24/50\n",
      "2000/2000 [==============================] - 82s 41ms/step - loss: 0.0150 - accuracy: 0.9951 - val_loss: 3.3374 - val_accuracy: 0.7881\n",
      "Epoch 25/50\n",
      "2000/2000 [==============================] - 82s 41ms/step - loss: 0.0151 - accuracy: 0.9952 - val_loss: 2.5041 - val_accuracy: 0.7831\n",
      "Epoch 26/50\n",
      "2000/2000 [==============================] - 82s 41ms/step - loss: 0.0139 - accuracy: 0.9955 - val_loss: 1.1922 - val_accuracy: 0.7875\n",
      "Epoch 27/50\n",
      "2000/2000 [==============================] - 82s 41ms/step - loss: 0.0129 - accuracy: 0.9959 - val_loss: 1.8170 - val_accuracy: 0.7704\n",
      "Epoch 28/50\n",
      "2000/2000 [==============================] - 82s 41ms/step - loss: 0.0146 - accuracy: 0.9951 - val_loss: 2.4937 - val_accuracy: 0.7809\n",
      "Epoch 29/50\n",
      "2000/2000 [==============================] - 82s 41ms/step - loss: 0.0132 - accuracy: 0.9957 - val_loss: 3.6582 - val_accuracy: 0.7684\n",
      "Epoch 30/50\n",
      "2000/2000 [==============================] - 82s 41ms/step - loss: 0.0142 - accuracy: 0.9957 - val_loss: 2.8063 - val_accuracy: 0.7851\n",
      "Epoch 31/50\n",
      "2000/2000 [==============================] - 82s 41ms/step - loss: 0.0120 - accuracy: 0.9962 - val_loss: 2.0014 - val_accuracy: 0.7937\n",
      "Epoch 32/50\n",
      "2000/2000 [==============================] - 82s 41ms/step - loss: 0.0115 - accuracy: 0.9963 - val_loss: 1.4416 - val_accuracy: 0.7847\n",
      "Epoch 33/50\n",
      "2000/2000 [==============================] - 82s 41ms/step - loss: 0.0129 - accuracy: 0.9960 - val_loss: 2.6684 - val_accuracy: 0.7902\n",
      "Epoch 34/50\n",
      "2000/2000 [==============================] - 82s 41ms/step - loss: 0.0108 - accuracy: 0.9963 - val_loss: 0.9638 - val_accuracy: 0.7843\n",
      "Epoch 35/50\n",
      "2000/2000 [==============================] - 82s 41ms/step - loss: 0.0125 - accuracy: 0.9962 - val_loss: 3.0793 - val_accuracy: 0.7817\n",
      "Epoch 36/50\n",
      "2000/2000 [==============================] - 82s 41ms/step - loss: 0.0107 - accuracy: 0.9966 - val_loss: 1.8915 - val_accuracy: 0.7917\n",
      "Epoch 37/50\n",
      "2000/2000 [==============================] - 82s 41ms/step - loss: 0.0099 - accuracy: 0.9971 - val_loss: 1.5714 - val_accuracy: 0.7747\n",
      "Epoch 38/50\n",
      "2000/2000 [==============================] - 82s 41ms/step - loss: 0.0120 - accuracy: 0.9964 - val_loss: 2.4941 - val_accuracy: 0.7830\n",
      "Epoch 39/50\n",
      "2000/2000 [==============================] - 82s 41ms/step - loss: 0.0109 - accuracy: 0.9967 - val_loss: 2.3218 - val_accuracy: 0.7844\n",
      "Epoch 40/50\n",
      "2000/2000 [==============================] - 82s 41ms/step - loss: 0.0108 - accuracy: 0.9967 - val_loss: 1.9419 - val_accuracy: 0.7892\n",
      "Epoch 41/50\n",
      "2000/2000 [==============================] - 82s 41ms/step - loss: 0.0101 - accuracy: 0.9968 - val_loss: 2.5566 - val_accuracy: 0.7922\n",
      "Epoch 42/50\n",
      "2000/2000 [==============================] - 82s 41ms/step - loss: 0.0105 - accuracy: 0.9967 - val_loss: 3.2124 - val_accuracy: 0.7823\n",
      "Epoch 43/50\n",
      "2000/2000 [==============================] - 83s 41ms/step - loss: 0.0092 - accuracy: 0.9972 - val_loss: 2.3043 - val_accuracy: 0.7816\n",
      "Epoch 44/50\n",
      "2000/2000 [==============================] - 83s 41ms/step - loss: 0.0096 - accuracy: 0.9972 - val_loss: 0.9607 - val_accuracy: 0.7788\n",
      "Epoch 45/50\n",
      "2000/2000 [==============================] - 83s 41ms/step - loss: 0.0105 - accuracy: 0.9969 - val_loss: 3.1679 - val_accuracy: 0.7934\n",
      "Epoch 46/50\n",
      "2000/2000 [==============================] - 82s 41ms/step - loss: 0.0089 - accuracy: 0.9972 - val_loss: 4.5871 - val_accuracy: 0.7930\n",
      "Epoch 47/50\n",
      "2000/2000 [==============================] - 82s 41ms/step - loss: 0.0079 - accuracy: 0.9977 - val_loss: 1.9016 - val_accuracy: 0.7885\n",
      "Epoch 48/50\n",
      "2000/2000 [==============================] - 82s 41ms/step - loss: 0.0093 - accuracy: 0.9972 - val_loss: 1.8622 - val_accuracy: 0.7907\n",
      "Epoch 49/50\n",
      "2000/2000 [==============================] - 82s 41ms/step - loss: 0.0096 - accuracy: 0.9971 - val_loss: 1.7089 - val_accuracy: 0.7937\n",
      "Epoch 50/50\n",
      "2000/2000 [==============================] - 82s 41ms/step - loss: 0.0091 - accuracy: 0.9971 - val_loss: 1.6041 - val_accuracy: 0.7704\n"
     ]
    },
    {
     "data": {
      "text/plain": [
       "<keras.callbacks.callbacks.History at 0x7fd2e44bb358>"
      ]
     },
     "execution_count": 14,
     "metadata": {},
     "output_type": "execute_result"
    }
   ],
   "source": [
    "#pre-processing images taken from keras documentation\n",
    "from keras.preprocessing.image import ImageDataGenerator\n",
    "\n",
    "train_datagen = ImageDataGenerator(\n",
    "    rescale=1./255,\n",
    "    shear_range=0.2,\n",
    "    zoom_range=0.2,\n",
    "    horizontal_flip=True)\n",
    "\n",
    "test_datagen = ImageDataGenerator(rescale=1./255)\n",
    "\n",
    "training_set = train_datagen.flow_from_directory(\n",
    "    'dataset/training_set',\n",
    "    target_size=(64, 64),\n",
    "    batch_size=50,\n",
    "    class_mode='binary')\n",
    "\n",
    "test_set = test_datagen.flow_from_directory(\n",
    "    'dataset/test_set/',\n",
    "    target_size=(64, 64),\n",
    "    batch_size=50,\n",
    "    class_mode='binary')\n",
    "\n",
    "classifier.fit(\n",
    "    training_set,\n",
    "    steps_per_epoch=2000,\n",
    "    epochs=50,\n",
    "    validation_data=test_set,\n",
    "    validation_steps=500,\n",
    "    workers=16)"
   ]
  },
  {
   "cell_type": "code",
   "execution_count": 15,
   "metadata": {},
   "outputs": [],
   "source": [
    "#saving trained model\n",
    "classifier.save('udemy_cnn.h5')"
   ]
  },
  {
   "cell_type": "code",
   "execution_count": 17,
   "metadata": {},
   "outputs": [
    {
     "name": "stdout",
     "output_type": "stream",
     "text": [
      "Model: \"sequential_2\"\n",
      "_________________________________________________________________\n",
      "Layer (type)                 Output Shape              Param #   \n",
      "=================================================================\n",
      "conv2d_3 (Conv2D)            (None, 62, 62, 32)        896       \n",
      "_________________________________________________________________\n",
      "max_pooling2d_3 (MaxPooling2 (None, 31, 31, 32)        0         \n",
      "_________________________________________________________________\n",
      "conv2d_4 (Conv2D)            (None, 29, 29, 32)        9248      \n",
      "_________________________________________________________________\n",
      "max_pooling2d_4 (MaxPooling2 (None, 14, 14, 32)        0         \n",
      "_________________________________________________________________\n",
      "flatten_2 (Flatten)          (None, 6272)              0         \n",
      "_________________________________________________________________\n",
      "dense_3 (Dense)              (None, 128)               802944    \n",
      "_________________________________________________________________\n",
      "dense_4 (Dense)              (None, 1)                 129       \n",
      "=================================================================\n",
      "Total params: 813,217\n",
      "Trainable params: 813,217\n",
      "Non-trainable params: 0\n",
      "_________________________________________________________________\n"
     ]
    }
   ],
   "source": [
    "classifier.summary()"
   ]
  },
  {
   "cell_type": "code",
   "execution_count": null,
   "metadata": {},
   "outputs": [],
   "source": []
  }
 ],
 "metadata": {
  "kernelspec": {
   "display_name": "Python 3",
   "language": "python",
   "name": "python3"
  },
  "language_info": {
   "codemirror_mode": {
    "name": "ipython",
    "version": 3
   },
   "file_extension": ".py",
   "mimetype": "text/x-python",
   "name": "python",
   "nbconvert_exporter": "python",
   "pygments_lexer": "ipython3",
   "version": "3.7.3"
  }
 },
 "nbformat": 4,
 "nbformat_minor": 2
}
